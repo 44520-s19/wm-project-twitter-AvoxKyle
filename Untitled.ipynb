{
 "cells": [
  {
   "cell_type": "markdown",
   "metadata": {},
   "source": [
    "# Kyle Thompson\n",
    "Twitter Account Distinction.\n",
    "\n",
    "Accounts:\n",
    "\n",
    "@Forbes\n",
    "@NewYorker\n",
    "@voxdotcom\n"
   ]
  },
  {
   "cell_type": "markdown",
   "metadata": {},
   "source": [
    "# 1: Retrieve Data"
   ]
  },
  {
   "cell_type": "code",
   "execution_count": 6,
   "metadata": {},
   "outputs": [],
   "source": [
    "import tweepy\n",
    "import pickle\n",
    "\n",
    "from twitter_keys import consumer_key, consumer_secret, access_token, access_secret\n",
    "\n",
    "auth = tweepy.OAuthHandler(consumer_key, consumer_secret)\n",
    "auth.set_access_token(access_token, access_secret)\n",
    "\n",
    "api = tweepy.API(auth)\n",
    "Forbes_tweets = api.user_timeline('Forbes')\n",
    "NewYorker_tweets = api.user_timeline('NewYorker')\n",
    "vox_tweets = api.user_timeline('voxdotcom')\n",
    "\n",
    "\n",
    "with open('Forbes_tweets.pkl', 'wb') as f:\n",
    "    pickle.dump(Forbes_tweets, f)\n",
    "with open('NewYorker_tweets.pkl', 'wb') as f:\n",
    "    pickle.dump(NewYorker_tweets, f)\n",
    "with open('vox_tweets.pkl','wb') as f:\n",
    "    pickle.dump(vox_tweets, f)\n",
    "    "
   ]
  },
  {
   "cell_type": "markdown",
   "metadata": {},
   "source": [
    "# 2: Read From Pickled Files"
   ]
  },
  {
   "cell_type": "code",
   "execution_count": 9,
   "metadata": {},
   "outputs": [],
   "source": [
    "import pickle \n",
    "\n",
    "with open('Forbes_tweets.pkl', 'rb') as f:\n",
    "    forbes = pickle.load(f)\n",
    "with open('NewYorker_tweets.pkl', 'rb') as f:\n",
    "    newYorker = pickle.load(f)\n",
    "with open('vox_tweets.pkl','rb') as f:\n",
    "    vox = pickle.load(f)\n",
    "#print(forbes)\n",
    "#print(newYorker)\n",
    "#print(vox)"
   ]
  },
  {
   "cell_type": "code",
   "execution_count": 36,
   "metadata": {},
   "outputs": [
    {
     "name": "stdout",
     "output_type": "stream",
     "text": [
      "Forbes Avg Likes:  47.7\n",
      "Avg Words in Tweet: 8.3\n",
      "ratio of likes to number of words:  0.1740041928721174\n",
      "Forbes Botstream\n",
      "The New Yorker Avg Likes:  156.05\n",
      "Avg Words in Tweet: 18.15\n",
      "ratio of likes to number of words:  0.11630887536046139\n",
      "SocialFlow\n",
      "Vox Avg Likes:  42.65\n",
      "Avg Words in Tweet: 18.6\n",
      "ratio of likes to number of words:  0.4361078546307151\n",
      "Vox Media\n"
     ]
    }
   ],
   "source": [
    "source_list = [forbes, newYorker, vox]\n",
    "likes = 0\n",
    "wordnum = 0\n",
    "\n",
    "for source in source_list:\n",
    "    likes = 0\n",
    "    wordNum = 0\n",
    "    for x in source:\n",
    "        likes = likes + x.favorite_count\n",
    "        wordNum = wordNum + len(x.text.lower().split())\n",
    "        #print(x.source)\n",
    "    \n",
    "    print(x.author.name, \"Avg Likes: \" ,likes/len(source))\n",
    "    print(\"Avg Words in Tweet:\", wordNum/len(source))\n",
    "    print(\"ratio of likes to number of words: \", (wordNum/likes))\n",
    "    print(x.source)\n",
    "\n",
    "\n",
    "    "
   ]
  },
  {
   "cell_type": "markdown",
   "metadata": {},
   "source": [
    "Forbes averages significantly less words per tweet\n",
    "TheNewYorker averages significantly more Likes\n",
    "Vox has a signifcantly higher word per like count."
   ]
  },
  {
   "cell_type": "code",
   "execution_count": null,
   "metadata": {},
   "outputs": [],
   "source": []
  }
 ],
 "metadata": {
  "kernelspec": {
   "display_name": "Python 3",
   "language": "python",
   "name": "python3"
  },
  "language_info": {
   "codemirror_mode": {
    "name": "ipython",
    "version": 3
   },
   "file_extension": ".py",
   "mimetype": "text/x-python",
   "name": "python",
   "nbconvert_exporter": "python",
   "pygments_lexer": "ipython3",
   "version": "3.7.3"
  }
 },
 "nbformat": 4,
 "nbformat_minor": 2
}
