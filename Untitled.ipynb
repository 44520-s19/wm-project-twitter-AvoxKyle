{
 "cells": [
  {
   "cell_type": "markdown",
   "metadata": {},
   "source": [
    "# Kyle Thompson\n",
    "Twitter Account Distinction.\n",
    "\n",
    "Accounts:\n",
    "\n",
    "@Forbes\n",
    "@NewYorker\n",
    "@voxdotcom\n"
   ]
  },
  {
   "cell_type": "markdown",
   "metadata": {},
   "source": [
    "# 1: Retrieve Data"
   ]
  },
  {
   "cell_type": "code",
   "execution_count": 6,
   "metadata": {},
   "outputs": [],
   "source": [
    "import tweepy\n",
    "import pickle\n",
    "\n",
    "from twitter_keys import consumer_key, consumer_secret, access_token, access_secret\n",
    "\n",
    "auth = tweepy.OAuthHandler(consumer_key, consumer_secret)\n",
    "auth.set_access_token(access_token, access_secret)\n",
    "\n",
    "api = tweepy.API(auth)\n",
    "Forbes_tweets = api.user_timeline('Forbes')\n",
    "NewYorker_tweets = api.user_timeline('NewYorker')\n",
    "vox_tweets = api.user_timeline('voxdotcom')\n",
    "\n",
    "\n",
    "with open('Forbes_tweets.pkl', 'wb') as f:\n",
    "    pickle.dump(Forbes_tweets, f)\n",
    "with open('NewYorker_tweets.pkl', 'wb') as f:\n",
    "    pickle.dump(NewYorker_tweets, f)\n",
    "with open('vox_tweets.pkl','wb') as f:\n",
    "    pickle.dump(vox_tweets, f)\n",
    "    "
   ]
  },
  {
   "cell_type": "markdown",
   "metadata": {},
   "source": [
    "# 2: Read From Pickled Files"
   ]
  },
  {
   "cell_type": "code",
   "execution_count": 9,
   "metadata": {},
   "outputs": [],
   "source": [
    "import pickle \n",
    "\n",
    "with open('Forbes_tweets.pkl', 'rb') as f:\n",
    "    forbes = pickle.load(f)\n",
    "with open('NewYorker_tweets.pkl', 'rb') as f:\n",
    "    newYorker = pickle.load(f)\n",
    "with open('vox_tweets.pkl','rb') as f:\n",
    "    vox = pickle.load(f)\n",
    "#print(forbes)\n",
    "#print(newYorker)\n",
    "#print(vox)"
   ]
  },
  {
   "cell_type": "markdown",
   "metadata": {},
   "source": [
    "# 3: Simple Metrics"
   ]
  },
  {
   "cell_type": "code",
   "execution_count": 56,
   "metadata": {},
   "outputs": [
    {
     "name": "stdout",
     "output_type": "stream",
     "text": [
      "Forbes Avg Likes:  47.7\n",
      "Avg Words in Tweet: 8.3\n",
      "Words per like:  0.1740041928721174\n",
      "Source:  Forbes Botstream\n",
      "\n",
      "The New Yorker Avg Likes:  156.05\n",
      "Avg Words in Tweet: 18.15\n",
      "Words per like:  0.11630887536046139\n",
      "Source:  SocialFlow\n",
      "\n",
      "Vox Avg Likes:  42.65\n",
      "Avg Words in Tweet: 18.6\n",
      "Words per like:  0.4361078546307151\n",
      "Source:  Vox Media\n",
      "\n",
      "{'Forbes': 47.7, 'The New Yorker': 156.05, 'Vox': 42.65}\n"
     ]
    }
   ],
   "source": [
    "source_list = [forbes, newYorker, vox]\n",
    "likes = 0\n",
    "wordnum = 0\n",
    "like_list = {}\n",
    "wordCount_list = {}\n",
    "\n",
    "for source in source_list:\n",
    "    likes = 0\n",
    "    wordNum = 0\n",
    "    \n",
    "    for x in source:\n",
    "        likes = likes + x.favorite_count\n",
    "        wordNum = wordNum + len(x.text.lower().split())\n",
    "        \n",
    "        #print(x.source)\n",
    "    \n",
    "    like_list.update({x.author.name: likes/len(source)})\n",
    "    wordCount_list.update({x.author.name: wordNum/len(source)})\n",
    "    print(x.author.name, \"Avg Likes: \" ,likes/len(source))\n",
    "    print(\"Avg Words in Tweet:\", wordNum/len(source))\n",
    "    print(\"Words per like: \", (wordNum/likes))\n",
    "    print(\"Source: \",x.source)\n",
    "    print()\n",
    "\n",
    "print(like_list)\n",
    "    "
   ]
  },
  {
   "cell_type": "markdown",
   "metadata": {},
   "source": [
    "Forbes averages significantly less words per tweet. \n",
    "TheNewYorker averages significantly more Likes.  \n",
    "Vox has signifcantly higher words per like."
   ]
  },
  {
   "cell_type": "code",
   "execution_count": 59,
   "metadata": {},
   "outputs": [
    {
     "name": "stdout",
     "output_type": "stream",
     "text": [
      "dict_values([47.7, 156.05, 42.65])\n",
      "['The New Yorker', 'Forbes', 'Vox']\n"
     ]
    },
    {
     "data": {
      "image/png": "[encoded data removed]",
      "text/plain": [
       "<Figure size 432x288 with 1 Axes>"
      ]
     },
     "metadata": {
      "needs_background": "light"
     },
     "output_type": "display_data"
    }
   ],
   "source": [
    "import matplotlib\n",
    "import matplotlib.pyplot as plt\n",
    "import numpy as np\n",
    "\n",
    "heights = like_list.values()\n",
    "print(heights)\n",
    "plt.bar(range(len(heights)),heights)\n",
    "plt.title(\"Average Likes Per Tweet\")\n",
    "plt.ylabel(\"Likes\")\n",
    "\n",
    "keys = list(like_list.keys())\n",
    "keys.sort(reverse=True, key = lambda x: like_list[x])\n",
    "print(keys)\n",
    "plt.xticks(range(len(heights)),keys)\n",
    "plt.show()\n",
    "\n"
   ]
  },
  {
   "cell_type": "code",
   "execution_count": 60,
   "metadata": {},
   "outputs": [
    {
     "name": "stdout",
     "output_type": "stream",
     "text": [
      "dict_values([8.3, 18.15, 18.6])\n",
      "['The New Yorker', 'Forbes', 'Vox']\n"
     ]
    },
    {
     "data": {
      "image/png": "[encoded data removed]",
      "text/plain": [
       "<Figure size 432x288 with 1 Axes>"
      ]
     },
     "metadata": {
      "needs_background": "light"
     },
     "output_type": "display_data"
    }
   ],
   "source": [
    "import matplotlib\n",
    "import matplotlib.pyplot as plt\n",
    "import numpy as np\n",
    "\n",
    "heights = wordCount_list.values()\n",
    "print(heights)\n",
    "plt.bar(range(len(heights)),heights)\n",
    "plt.title(\"Average Words Per Tweet\")\n",
    "plt.ylabel(\"# of Words\")\n",
    "\n",
    "keys = list(wordCount_list.keys())\n",
    "keys.sort(reverse=True, key = lambda x: like_list[x])\n",
    "print(keys)\n",
    "plt.xticks(range(len(heights)),keys)\n",
    "plt.show()"
   ]
  },
  {
   "cell_type": "markdown",
   "metadata": {},
   "source": [
    "# Conclusion\n",
    "\n",
    "The simplist way to tell the difference between the three accounts is with favorite and wordcount.  \n",
    "Forbes averages almost 4 times as many favorites per tweet.  \n",
    "The NewYorker Averages less than half as many words per tweet.  \n",
    "Vox tweets out about twice as many words as it recieves tweets.  \n",
    "  \n",
    "  This allows one to distingush between all three accounts by popularity and tweet length alone."
   ]
  },
  {
   "cell_type": "code",
   "execution_count": null,
   "metadata": {},
   "outputs": [],
   "source": []
  }
 ],
 "metadata": {
  "kernelspec": {
   "display_name": "Python 3",
   "language": "python",
   "name": "python3"
  },
  "language_info": {
   "codemirror_mode": {
    "name": "ipython",
    "version": 3
   },
   "file_extension": ".py",
   "mimetype": "text/x-python",
   "name": "python",
   "nbconvert_exporter": "python",
   "pygments_lexer": "ipython3",
   "version": "3.7.3"
  }
 },
 "nbformat": 4,
 "nbformat_minor": 2
}
